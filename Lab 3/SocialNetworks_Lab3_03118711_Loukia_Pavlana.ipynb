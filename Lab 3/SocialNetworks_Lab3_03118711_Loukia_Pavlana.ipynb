{
  "cells": [
    {
      "cell_type": "markdown",
      "id": "1f35580e",
      "metadata": {
        "id": "1f35580e"
      },
      "source": [
        "<html><font size=6><B>3η εργαστηριακή άσκηση</B><BR>\n",
        "    <BR><B>Link prediction - Πρόβλεψη συνδέσμων</B></BR>\n",
        "    </font></html>"
      ]
    },
    {
      "cell_type": "markdown",
      "id": "b30af479",
      "metadata": {
        "id": "b30af479"
      },
      "source": [
        "<html><font size=4><B>1. Κατασκευή γράφου και προεργασία για την πρόβλεψη συνδέσμων</B></font>\n",
        "    <li><B>1(i).</B> Χρησιμοποιήστε το dataset <a href=\"http://konect.cc/networks/dbpedia-similar/\"> Similarities (DBpedia)</a>, για να κατασκευάσετε τον μη κατευθυνόμενο (undirected) γράφο $G$ <a href=\"https://dl.acm.org/doi/10.1145/2487788.2488173\">[1]</a>,<a href=\"https://link.springer.com/chapter/10.1007/978-3-540-76298-0_52\">[2]</a>. Οι κόμβοι του γράφου αναπαριστούν σελίδες της Wikipedia και οι ακμές σχέση ομοιότητας μεταξύ τους. Στην σελίδα <a href=\"http://konect.cc/networks/dbpedia-similar/\"> KONECT (DBpedia)</a> μπορείτε να βρείτε πληροφορίες για τις ιδιότητες του γράφου.</a><BR>\n",
        "        <B><U>Υπόδειξη:</U></B> Μπορείτε να ελέγξετε προγραμματιστικά αν το dataset περιέχει διπλότυπα των ακμών με την ίδια ή αντίστροφη σειρά (π.χ. ακμές (a,b) και (b,a)), και να λάβετε υπ' όψιν σας αυτήν σας την παρατήρηση, όπου τυχόν χρειαστεί, στην ερώτηση 2.<BR></html>"
      ]
    },
    {
      "cell_type": "code",
      "source": [
        "import matplotlib\n",
        "import networkx as nx\n",
        "import matplotlib.pyplot as plt\n",
        "import numpy as np\n",
        "import scipy as sp\n",
        "import pandas as pd\n",
        "from sklearn.metrics import accuracy_score\n",
        "from sklearn.metrics import recall_score\n",
        "from sklearn.metrics import precision_score"
      ],
      "metadata": {
        "id": "XDY09FfzPjTi"
      },
      "id": "XDY09FfzPjTi",
      "execution_count": null,
      "outputs": []
    },
    {
      "cell_type": "code",
      "source": [
        "duplicate_edges = 0\n",
        "duplicate_edges_rev = 0\n",
        "\n",
        "graph = nx.Graph()\n",
        "\n",
        "with open(\"DBPedia.txt\") as file:\n",
        "  #diavazoume to arxeio grami-grami kai pernoume tis times gia tis akmes pou xwrizontai me keno.\n",
        "    for line in file:\n",
        "        u_str, v_str = line.split(' ')\n",
        "        u, v = int(u_str) - 1, int(v_str) - 1\n",
        "        duplicate_edges += graph.has_edge(u, v)\n",
        "        duplicate_edges_rev += graph.has_edge(v, u)\n",
        "        graph.add_edge(u, v)\n",
        "print(graph)\n",
        "print('Duplicate Edges:', duplicate_edges)\n",
        "print('Duplicate Edges (reversed):', duplicate_edges_rev)"
      ],
      "metadata": {
        "colab": {
          "base_uri": "https://localhost:8080/"
        },
        "id": "DC8IYGWJMBxt",
        "outputId": "2ce969cd-ca43-4647-adc4-2d5acd0fe6c1"
      },
      "id": "DC8IYGWJMBxt",
      "execution_count": null,
      "outputs": [
        {
          "output_type": "stream",
          "name": "stdout",
          "text": [
            "Graph with 430 nodes and 565 edges\n",
            "Duplicate Edges: 0\n",
            "Duplicate Edges (reversed): 0\n"
          ]
        }
      ]
    },
    {
      "cell_type": "markdown",
      "source": [
        "**Σχόλιο:** Δεν υπάρχουν διπλές ακμές αλλά ουτε και ακμές  με αντιστροφή σείρα, αυτό ήταν αναμενόμενο μιας και αναφέρεται στο documentantion του dataset."
      ],
      "metadata": {
        "id": "3IpB0f-EPuau"
      },
      "id": "3IpB0f-EPuau"
    },
    {
      "cell_type": "markdown",
      "id": "4bd79bac",
      "metadata": {
        "id": "4bd79bac"
      },
      "source": [
        " <li><B>1(ii).</B> Εμφανίστε τον αριθμό των κόμβων, τον αριθμό των ακμών, τον μέσο βαθμό των κόμβων και τον αριθμό των συνεκτικών συνιστωσών (connected components) για τον γράφο $G$.</li><BR>"
      ]
    },
    {
      "cell_type": "code",
      "source": [
        "def graph_details(name, graph):\n",
        "    initial_node_count = graph.number_of_nodes()\n",
        "    initial_edge_count = graph.number_of_edges()\n",
        "    initial_degree_avg = sum(nx.degree_centrality(graph).values()) / initial_node_count\n",
        "    initial_connected_components = nx.number_connected_components(graph)\n",
        "    print(name + \" number of Nodes:\", initial_node_count)\n",
        "    print(name + \" number of Edges:\", initial_edge_count)\n",
        "    print(name + \" Average Degree of Nodes:\", initial_degree_avg)\n",
        "    print(name + \" number of Connected Components:\", initial_connected_components)\n",
        "    return (initial_node_count, initial_edge_count, initial_degree_avg, initial_connected_components)\n",
        "\n",
        "(initial_node_count, initial_edge_count, initial_degree_avg, initial_connected_components) = graph_details(\"Initial\", graph)"
      ],
      "metadata": {
        "colab": {
          "base_uri": "https://localhost:8080/"
        },
        "id": "6c8FgSqTRh6K",
        "outputId": "b83333c2-f377-4afe-c23a-469f1957d43b"
      },
      "id": "6c8FgSqTRh6K",
      "execution_count": null,
      "outputs": [
        {
          "output_type": "stream",
          "name": "stdout",
          "text": [
            "Initial number of Nodes: 430\n",
            "Initial number of Edges: 565\n",
            "Initial Average Degree of Nodes: 0.0061256572884480125\n",
            "Initial number of Connected Components: 95\n"
          ]
        }
      ]
    },
    {
      "cell_type": "markdown",
      "id": "bf03f6b9",
      "metadata": {
        "id": "bf03f6b9"
      },
      "source": [
        "<li><B>1(iii). </B>Υπολογίστε το σύνολο των ασύνδετων ζευγών κόμβων (unconnected pairs) στον γράφο χρησιμοποιώντας τον πίνακα γειτνίασης (adjacency matrix). Δώστε επίσης τον αριθμό τους. Λάβετε υπ' όψιν σας ότι ο γράφος είναι μη κατευθυνόμενος και δεν χρειάζεται να διατρέξετε ολόκληρο τον πίνακα γειτνίασης.</li><BR>"
      ]
    },
    {
      "cell_type": "code",
      "source": [
        "unconnected_pairs = [\n",
        "    (i, j) for i in range(initial_node_count)\n",
        "    for j in range(i + 1, initial_node_count)\n",
        "    if (i, j) not in graph.edges()\n",
        "]\n",
        "\n",
        "print(\"Number of Unconnected Pairs:\", len(unconnected_pairs))"
      ],
      "metadata": {
        "colab": {
          "base_uri": "https://localhost:8080/"
        },
        "id": "ohUcqmjmR9mC",
        "outputId": "c28a677e-97e7-4621-8a66-21bcc0618f6d"
      },
      "id": "ohUcqmjmR9mC",
      "execution_count": null,
      "outputs": [
        {
          "output_type": "stream",
          "name": "stdout",
          "text": [
            "Number of Unconnected Pairs: 91671\n"
          ]
        }
      ]
    },
    {
      "cell_type": "markdown",
      "id": "154c2a8d",
      "metadata": {
        "id": "154c2a8d"
      },
      "source": [
        "<li><B>1(iv).</B> Υπολογίστε το σύνολο των ακμών (removable edges) που μπορούν να αφαιρεθούν από τον γράφο χωρίς να υπάρχει κατάτμηση (splitting) του γράφου (δηλ. ο αριθμός των συνεκτικών συνιστωσών θα πρέπει να παραμένει αμετάβλητος). Υπόδειξη: Ελέγχετε επίσης ότι με αφαίρεση ακμής δεν μειώνεται ο αριθμός των κόμβων (εφόσον δεν υπάρχει ξεχωριστό αρχείο μόνο με κόμβους στο dataset). Δώστε επίσης τον αριθμό των ακμών (removable edges) που μπορούν να αφαιρεθούν υπό αυτές τις προϋποθέσεις.</li><BR>"
      ]
    },
    {
      "cell_type": "code",
      "execution_count": null,
      "id": "b39c2241",
      "metadata": {
        "id": "b39c2241"
      },
      "outputs": [],
      "source": [
        "# removable edges: check splitting and number of nodes\n",
        "#if ( == initial_connected_components) and ( == initial_node_count): #uncomment and complete (modifications allowed)"
      ]
    },
    {
      "cell_type": "code",
      "source": [
        "removable_edges = []\n",
        "copy_graph = graph.copy()\n",
        "for edge in graph.edges():\n",
        "    # we create a copy of the graph in order to make the changes we need, and check if the conditions are satisfied\n",
        "    copy_graph.remove_edge(*edge)\n",
        "    copy_node_cοunt = copy_graph.number_of_nodes()\n",
        "    copy_conn_comps = nx.number_connected_components(copy_graph)\n",
        "    # remove edges that are not self edges && when deleted connected components and node count stays the same\n",
        "    if (copy_conn_comps == initial_connected_components and copy_node_cοunt == initial_node_count and edge[0] != edge[1]):\n",
        "        #the edges that are self pointed are not added to the set\n",
        "        removable_edges.append(edge)\n",
        "    else:\n",
        "        copy_graph.add_edge(*edge)\n",
        "\n",
        "print(\"Removable Edges:\", len(removable_edges))"
      ],
      "metadata": {
        "colab": {
          "base_uri": "https://localhost:8080/"
        },
        "id": "rbehaphNSS_2",
        "outputId": "d1c145e0-e56c-4cd4-9232-160949906a54"
      },
      "id": "rbehaphNSS_2",
      "execution_count": null,
      "outputs": [
        {
          "output_type": "stream",
          "name": "stdout",
          "text": [
            "Removable Edges: 229\n"
          ]
        }
      ]
    },
    {
      "cell_type": "markdown",
      "id": "eb03d745",
      "metadata": {
        "id": "eb03d745"
      },
      "source": [
        "<li><B>1(vα).</B> Κατασκευάστε dataframe που συνενώνει τις απαντήσεις των ερωτημάτων 1(iii) και 1(iv) (unconnected+removables). Χρησιμοποιήστε την μεταβλητή $link$ που θα παίρνει τιμή 1 ή 0 ανάλογα με την ύπαρξη συνδέσμου ή μη. To dataframe αυτό συγκεντρώνει τα θετικά και αρνητικά δείγματα για την πρόβλεψη των μελλοντικών συνδέσεων (link: target variable). <BR>\n",
        "    <li><B>1(vβ).</B> Κατασκευάστε τον γράφο $G'$ που προκύπτει από την αφαίρεση από τον γράφο $G$ των ακμών του ερωτήματος 1(iv). <BR>\n",
        "    <li><B>1(vγ).</B> Εμφανίστε τον αριθμό των κόμβων, τον αριθμό των ακμών, τον μέσο βαθμό των κόμβων και τον αριθμό των συνεκτικών συνιστωσών (connected components) για τον γράφο $G'$.</li><BR>"
      ]
    },
    {
      "cell_type": "code",
      "execution_count": null,
      "id": "cb033fc0",
      "metadata": {
        "id": "cb033fc0"
      },
      "outputs": [],
      "source": [
        "#dataframe of removable edges (they will function as positive samples)\n",
        "#...['link'] = 1  #uncomment and complete\n",
        "\n",
        "#dataframe of unconnected node pairs (they will function as negative samples)\n",
        "#...['link'] = 0 # uncomment and complete\n",
        "\n",
        "#merge in one dataframe\n",
        "\n",
        "#build graph G'=G_reduced"
      ]
    },
    {
      "cell_type": "code",
      "source": [
        "df_edges = unconnected_pairs + removable_edges\n",
        "df_edges.sort()\n",
        "df_links = []\n",
        "\n",
        "for edge in df_edges:\n",
        "    if edge in unconnected_pairs:   df_links.append(0)\n",
        "    else:                           df_links.append(1)\n",
        "\n",
        "df = pd.DataFrame({'edge': df_edges, 'link': df_links})\n",
        "\n",
        "#build graph G' = G_reduced\n",
        "G_reduced = graph.copy()\n",
        "G_reduced.remove_edges_from(removable_edges)\n",
        "df"
      ],
      "metadata": {
        "colab": {
          "base_uri": "https://localhost:8080/",
          "height": 424
        },
        "id": "9Z-6WqLLW-Uq",
        "outputId": "06c12ead-2953-4f01-a61a-48c8fe79fcce"
      },
      "id": "9Z-6WqLLW-Uq",
      "execution_count": null,
      "outputs": [
        {
          "output_type": "execute_result",
          "data": {
            "text/plain": [
              "             edge  link\n",
              "0          (0, 1)     1\n",
              "1          (0, 2)     1\n",
              "2          (0, 3)     1\n",
              "3          (0, 5)     0\n",
              "4          (0, 6)     0\n",
              "...           ...   ...\n",
              "91895  (425, 429)     0\n",
              "91896  (426, 427)     0\n",
              "91897  (426, 428)     0\n",
              "91898  (426, 429)     0\n",
              "91899  (428, 429)     0\n",
              "\n",
              "[91900 rows x 2 columns]"
            ],
            "text/html": [
              "\n",
              "  <div id=\"df-e0858797-1f39-467e-9a47-e9a0f0c811d4\">\n",
              "    <div class=\"colab-df-container\">\n",
              "      <div>\n",
              "<style scoped>\n",
              "    .dataframe tbody tr th:only-of-type {\n",
              "        vertical-align: middle;\n",
              "    }\n",
              "\n",
              "    .dataframe tbody tr th {\n",
              "        vertical-align: top;\n",
              "    }\n",
              "\n",
              "    .dataframe thead th {\n",
              "        text-align: right;\n",
              "    }\n",
              "</style>\n",
              "<table border=\"1\" class=\"dataframe\">\n",
              "  <thead>\n",
              "    <tr style=\"text-align: right;\">\n",
              "      <th></th>\n",
              "      <th>edge</th>\n",
              "      <th>link</th>\n",
              "    </tr>\n",
              "  </thead>\n",
              "  <tbody>\n",
              "    <tr>\n",
              "      <th>0</th>\n",
              "      <td>(0, 1)</td>\n",
              "      <td>1</td>\n",
              "    </tr>\n",
              "    <tr>\n",
              "      <th>1</th>\n",
              "      <td>(0, 2)</td>\n",
              "      <td>1</td>\n",
              "    </tr>\n",
              "    <tr>\n",
              "      <th>2</th>\n",
              "      <td>(0, 3)</td>\n",
              "      <td>1</td>\n",
              "    </tr>\n",
              "    <tr>\n",
              "      <th>3</th>\n",
              "      <td>(0, 5)</td>\n",
              "      <td>0</td>\n",
              "    </tr>\n",
              "    <tr>\n",
              "      <th>4</th>\n",
              "      <td>(0, 6)</td>\n",
              "      <td>0</td>\n",
              "    </tr>\n",
              "    <tr>\n",
              "      <th>...</th>\n",
              "      <td>...</td>\n",
              "      <td>...</td>\n",
              "    </tr>\n",
              "    <tr>\n",
              "      <th>91895</th>\n",
              "      <td>(425, 429)</td>\n",
              "      <td>0</td>\n",
              "    </tr>\n",
              "    <tr>\n",
              "      <th>91896</th>\n",
              "      <td>(426, 427)</td>\n",
              "      <td>0</td>\n",
              "    </tr>\n",
              "    <tr>\n",
              "      <th>91897</th>\n",
              "      <td>(426, 428)</td>\n",
              "      <td>0</td>\n",
              "    </tr>\n",
              "    <tr>\n",
              "      <th>91898</th>\n",
              "      <td>(426, 429)</td>\n",
              "      <td>0</td>\n",
              "    </tr>\n",
              "    <tr>\n",
              "      <th>91899</th>\n",
              "      <td>(428, 429)</td>\n",
              "      <td>0</td>\n",
              "    </tr>\n",
              "  </tbody>\n",
              "</table>\n",
              "<p>91900 rows × 2 columns</p>\n",
              "</div>\n",
              "      <button class=\"colab-df-convert\" onclick=\"convertToInteractive('df-e0858797-1f39-467e-9a47-e9a0f0c811d4')\"\n",
              "              title=\"Convert this dataframe to an interactive table.\"\n",
              "              style=\"display:none;\">\n",
              "        \n",
              "  <svg xmlns=\"http://www.w3.org/2000/svg\" height=\"24px\"viewBox=\"0 0 24 24\"\n",
              "       width=\"24px\">\n",
              "    <path d=\"M0 0h24v24H0V0z\" fill=\"none\"/>\n",
              "    <path d=\"M18.56 5.44l.94 2.06.94-2.06 2.06-.94-2.06-.94-.94-2.06-.94 2.06-2.06.94zm-11 1L8.5 8.5l.94-2.06 2.06-.94-2.06-.94L8.5 2.5l-.94 2.06-2.06.94zm10 10l.94 2.06.94-2.06 2.06-.94-2.06-.94-.94-2.06-.94 2.06-2.06.94z\"/><path d=\"M17.41 7.96l-1.37-1.37c-.4-.4-.92-.59-1.43-.59-.52 0-1.04.2-1.43.59L10.3 9.45l-7.72 7.72c-.78.78-.78 2.05 0 2.83L4 21.41c.39.39.9.59 1.41.59.51 0 1.02-.2 1.41-.59l7.78-7.78 2.81-2.81c.8-.78.8-2.07 0-2.86zM5.41 20L4 18.59l7.72-7.72 1.47 1.35L5.41 20z\"/>\n",
              "  </svg>\n",
              "      </button>\n",
              "      \n",
              "  <style>\n",
              "    .colab-df-container {\n",
              "      display:flex;\n",
              "      flex-wrap:wrap;\n",
              "      gap: 12px;\n",
              "    }\n",
              "\n",
              "    .colab-df-convert {\n",
              "      background-color: #E8F0FE;\n",
              "      border: none;\n",
              "      border-radius: 50%;\n",
              "      cursor: pointer;\n",
              "      display: none;\n",
              "      fill: #1967D2;\n",
              "      height: 32px;\n",
              "      padding: 0 0 0 0;\n",
              "      width: 32px;\n",
              "    }\n",
              "\n",
              "    .colab-df-convert:hover {\n",
              "      background-color: #E2EBFA;\n",
              "      box-shadow: 0px 1px 2px rgba(60, 64, 67, 0.3), 0px 1px 3px 1px rgba(60, 64, 67, 0.15);\n",
              "      fill: #174EA6;\n",
              "    }\n",
              "\n",
              "    [theme=dark] .colab-df-convert {\n",
              "      background-color: #3B4455;\n",
              "      fill: #D2E3FC;\n",
              "    }\n",
              "\n",
              "    [theme=dark] .colab-df-convert:hover {\n",
              "      background-color: #434B5C;\n",
              "      box-shadow: 0px 1px 3px 1px rgba(0, 0, 0, 0.15);\n",
              "      filter: drop-shadow(0px 1px 2px rgba(0, 0, 0, 0.3));\n",
              "      fill: #FFFFFF;\n",
              "    }\n",
              "  </style>\n",
              "\n",
              "      <script>\n",
              "        const buttonEl =\n",
              "          document.querySelector('#df-e0858797-1f39-467e-9a47-e9a0f0c811d4 button.colab-df-convert');\n",
              "        buttonEl.style.display =\n",
              "          google.colab.kernel.accessAllowed ? 'block' : 'none';\n",
              "\n",
              "        async function convertToInteractive(key) {\n",
              "          const element = document.querySelector('#df-e0858797-1f39-467e-9a47-e9a0f0c811d4');\n",
              "          const dataTable =\n",
              "            await google.colab.kernel.invokeFunction('convertToInteractive',\n",
              "                                                     [key], {});\n",
              "          if (!dataTable) return;\n",
              "\n",
              "          const docLinkHtml = 'Like what you see? Visit the ' +\n",
              "            '<a target=\"_blank\" href=https://colab.research.google.com/notebooks/data_table.ipynb>data table notebook</a>'\n",
              "            + ' to learn more about interactive tables.';\n",
              "          element.innerHTML = '';\n",
              "          dataTable['output_type'] = 'display_data';\n",
              "          await google.colab.output.renderOutput(dataTable, element);\n",
              "          const docLink = document.createElement('div');\n",
              "          docLink.innerHTML = docLinkHtml;\n",
              "          element.appendChild(docLink);\n",
              "        }\n",
              "      </script>\n",
              "    </div>\n",
              "  </div>\n",
              "  "
            ]
          },
          "metadata": {},
          "execution_count": 16
        }
      ]
    },
    {
      "cell_type": "code",
      "source": [
        "_, _, _, _ = graph_details(\"Reduced\", G_reduced)"
      ],
      "metadata": {
        "colab": {
          "base_uri": "https://localhost:8080/"
        },
        "id": "qaO1UCQeXRZn",
        "outputId": "b1db3eb2-b650-4784-8396-951e2b4da2b8"
      },
      "id": "qaO1UCQeXRZn",
      "execution_count": null,
      "outputs": [
        {
          "output_type": "stream",
          "name": "stdout",
          "text": [
            "Reduced number of Nodes: 430\n",
            "Reduced number of Edges: 336\n",
            "Reduced Average Degree of Nodes: 0.0036428687591478492\n",
            "Reduced number of Connected Components: 95\n"
          ]
        }
      ]
    },
    {
      "cell_type": "markdown",
      "id": "184eae57",
      "metadata": {
        "id": "184eae57"
      },
      "source": [
        "<html><font size=4><B>2. Εισαγωγή σε similarity-based μετρικές για Link prediction</B></font><BR><BR>\n",
        "     <li> Η μετρική <B>Jaccard Coefficient (JC)</B> των κόμβων ${u}$ και ${v}$ ορίζεται ως $\\frac{|\\Gamma(u) \\cap \\Gamma(v)|}{|\\Gamma(u) \\cup \\Gamma(v)|}$, όπου ${\\Gamma(u)}$ είναι το σύνολο των γειτονικών κόμβων του κόμβου ${u}$.  <B></B>\n",
        "        <li> Η μετρική <B>Preferential Αttachment (PA)</B> των κόμβων $u$ και $v$ ορίζεται ως $|\\Gamma(u)| |\\Gamma(v)|$, όπου $\\Gamma(u)$ είναι το σύνολο των γειτονικών κόμβων του $u$.</li>\n",
        "        <li> Η μετρική <B>Resource Allocation (RA)</B> των κόμβων $u$ και $v$ ορίζεται ως $\\sum_{w \\in \\Gamma(u) \\cap \\Gamma(v)} \\frac{1}{|\\Gamma(w)|}$, όπου $\\Gamma(u)$ είναι το σύνολο των γειτονικών κόμβων του $u$.</li><BR><BR>\n",
        "    <li><B>2(i).</B> Για τον γράφο $G'$, που κατασκευάσατε στο ερώτημα 1(vβ), υπολογίστε την μετρική <B>Jaccard Coefficient (JC)</B>.  <u><a href=\"https://networkx.org/documentation/stable/reference/algorithms/link_prediction.html?highlight=link%20prediction\">Χρησιμοποιήστε την υλοποιημένη συνάρτηση του λογισμικού NetworkX.<a></u> <BR><BR>\n",
        "    <li><B>2(ii). </B>Δώστε τις $k$ ακμές με την υψηλότερη τιμή μετρικής $JC$, όπου $k$ ο $Α.Μ.$ σας $mod$ $10$. Για $Α.Μ.$ λήγοντα σε $0$ δώστε τις $10$ ακμές με την υψηλότερη τιμή μετρικής.\n",
        "        (Για την σύγκριση μεταξύ διαφορετικών μετρικών προτιμάται η εύρεση των $k$ επικρατέστερων συνδέσμων, αφού οι μετρικές επιστρέφουν διαφορετικό εύρος τιμών.)</li><BR>\n",
        "    <li><B>2(iii). </B>Προσδιορίστε για την μέτρηση της απόδοσης της μετρικής $JC$ τα μεγέθη $Precision$, $Recall$ και $Accuracy$ και αναπαραστήστε τα γραφικά για τιμές κατωφλίου: $0.1$, $0.15$, $0.25$, $0.5$, $1.0$.  <BR><BR>\n",
        "    $Precision=\\frac{TP}{TP+FP}$, όπου $TP$: αληθώς θετικά αποτελέσματα, $FP$: ψευδώς θετικά αποτελέσματα <BR>\n",
        "    $Recall=\\frac{TP}{TP+FN}$, όπου $TP$: αληθώς θετικά αποτελέσματα, $FN$: ψευδώς αρνητικά αποτελέσματα</li>\n",
        "    $Accuracy=\\frac{TP+TN}{TP+FN+TN+FP}$, όπου $TP$: αληθώς θετικά αποτελέσματα, $TN$: αληθώς αρνητικά αποτελέσματα, $FN$: ψευδώς αρνητικά αποτελέσματα, $FP$: ψευδώς θετικά αποτελέσματα</li><BR><BR>\n",
        "        <B><U>Υπόδειξη:</U></B>\n",
        "        Θετικό θεωρήστε ένα αποτέλεσμα, αν η μετρική $JC$ υπερβαίνει μια τιμή κατωφλίου (>=). Αρνητικό θεωρήστε το στην αντίθετη περίπτωση.\n",
        "        <li>Αληθώς θετικά είναι τα αποτελέσματα που βγήκαν θετικά (η τιμή της $JC$ υπερβαίνει την τιμή κατωφλίου) και πράγματι θα υπάρξουν οι συνδέσεις που περιγράφουν (ερ. 1(iv)).</li>\n",
        "        <li>Αληθώς αρνητικά είναι τα αποτελέσματα που βγήκαν αρνητικά και πράγματι δεν θα υπάρξουν οι συνδέσεις που περιγράφουν (ερ. 1(iii)).</li>\n",
        "        <li>Ψευδώς θετικά είναι τα αποτελέσματα που βγήκαν θετικά, ενώ δεν θα υπάρξουν οι συνδέσεις που περιγράφουν.</li>\n",
        "        <li>Ψευδώς αρνητικά είναι τα αποτελέσματα που βγήκαν αρνητικά, ενώ θα υπάρξουν οι συνδέσεις που περιγράφουν.</li>\n",
        "        <li>Το άθροισμα $TN+FP$ πρέπει κάθε φορά να σας δίνει όλες τις ασύνδετες ακμές του γράφου $G$.</li>   \n",
        "<li>Από το ερώτημα 1(iii) οι ακμές που υπολογίσατε είναι αυτές για τις οποίες δεν θα υπάρξουν συνδέσεις.</li> <li>Από το ερώτημα 1(iv) οι ακμές που υπολογίσατε είναι αυτές για τις οποίες θα υπάρξουν συνδέσεις.</li><BR></html>"
      ]
    },
    {
      "cell_type": "code",
      "execution_count": null,
      "id": "d8b0d5fd",
      "metadata": {
        "id": "d8b0d5fd"
      },
      "outputs": [],
      "source": [
        "#def JCfunction(threshold_jc):   #uncomment and complete\n",
        "#return recall_jc, precision_jc, accuracy_jc; #uncomment and complete\n",
        "\n",
        "# k = Α.Μ. mod 10"
      ]
    },
    {
      "cell_type": "code",
      "source": [
        "# 2(i)\n",
        "JC_preds = list(nx.algorithms.link_prediction.jaccard_coefficient(G_reduced))\n",
        "\n",
        "# 2(ii)\n",
        "# k = 1 -> 03117711\n",
        "edge = None\n",
        "max_p = 0\n",
        "\n",
        "# find the highest pred value\n",
        "for u, v, p in JC_preds:\n",
        "    if p > max_p:\n",
        "        max_p = p\n",
        "        edge = (u, v)\n",
        "\n",
        "print(\"Edge with the highest value [\" + str(max_p) + \"] of JC Metrics:\", edge)\n",
        "\n",
        "# 2(iii)\n",
        "JC_p_vals = []\n",
        "thresholds = [0.1, 0.15, 0.25, 0.5, 1.0]\n",
        "precision_vals = []\n",
        "recall_vals = []\n",
        "accuracy_vals = []\n",
        "\n",
        "# retrieve all preds in a list\n",
        "for _, _, p in JC_preds:\n",
        "    JC_p_vals.append(p)\n",
        "\n",
        "# convert to array to be able to use np.where\n",
        "JC_p_vals = np.array(JC_p_vals)\n",
        "\n",
        "# function that calculates recall, precision, accuracy and returns a dictionary\n",
        "def JCfunction(threshold):\n",
        "    link_pred = np.where(JC_p_vals >= threshold, 1, 0)\n",
        "    return {\n",
        "        \"precision\": precision_score(df_links, link_pred),\n",
        "        \"recall\": recall_score(df_links, link_pred),\n",
        "        \"accuracy\": accuracy_score(df_links, link_pred)\n",
        "    }\n",
        "\n",
        "def visualize(name, values):\n",
        "    plt.figure()\n",
        "    plt.plot(thresholds, values)\n",
        "    plt.title(name)\n",
        "    plt.xlabel(\"threshold\")\n",
        "    plt.ylabel(\"value\")\n",
        "\n",
        "for threshold in thresholds:\n",
        "    metrics_results = JCfunction(threshold)\n",
        "    # save values to lists in order to visualize them in graphs\n",
        "    precision_vals.append(metrics_results[\"precision\"])\n",
        "    recall_vals.append(metrics_results[\"recall\"])\n",
        "    accuracy_vals.append(metrics_results[\"accuracy\"])\n",
        "    # print the result\n",
        "    print(\"For threshold equal to \" + str(threshold) + \":\")\n",
        "    print(\"\\tPrecision:\", metrics_results[\"precision\"])\n",
        "    print(\"\\tRecall:\", metrics_results[\"recall\"])\n",
        "    print(\"\\tAccuracy:\", metrics_results[\"accuracy\"])\n",
        "\n",
        "visualize(\"Precision\", precision_vals)\n",
        "visualize(\"Recall\", recall_vals)\n",
        "visualize(\"Accuracy\", accuracy_vals)"
      ],
      "metadata": {
        "colab": {
          "base_uri": "https://localhost:8080/",
          "height": 1000
        },
        "id": "TqAlNDDPY3lA",
        "outputId": "ad08aea9-aecd-4e78-90e2-a6ea6c2e8b34"
      },
      "id": "TqAlNDDPY3lA",
      "execution_count": null,
      "outputs": [
        {
          "output_type": "stream",
          "name": "stdout",
          "text": [
            "Edge with the highest value [1.0] of JC Metrics: (3, 45)\n",
            "For threshold equal to 0.1:\n",
            "\tPrecision: 0.31287128712871287\n",
            "\tRecall: 0.6899563318777293\n",
            "\tAccuracy: 0.9954515778019587\n",
            "For threshold equal to 0.15:\n",
            "\tPrecision: 0.3162217659137577\n",
            "\tRecall: 0.6724890829694323\n",
            "\tAccuracy: 0.9955603917301414\n",
            "For threshold equal to 0.25:\n",
            "\tPrecision: 0.33482142857142855\n",
            "\tRecall: 0.6550218340611353\n",
            "\tAccuracy: 0.9958977149075081\n",
            "For threshold equal to 0.5:\n",
            "\tPrecision: 0.41389728096676737\n",
            "\tRecall: 0.5982532751091703\n",
            "\tAccuracy: 0.9968879216539717\n",
            "For threshold equal to 1.0:\n",
            "\tPrecision: 0.5101214574898786\n",
            "\tRecall: 0.5502183406113537\n",
            "\tAccuracy: 0.9975625680087051\n"
          ]
        },
        {
          "output_type": "display_data",
          "data": {
            "text/plain": [
              "<Figure size 432x288 with 1 Axes>"
            ],
            "image/png": "[encoded data removed]"
          },
          "metadata": {
            "needs_background": "light"
          }
        },
        {
          "output_type": "display_data",
          "data": {
            "text/plain": [
              "<Figure size 432x288 with 1 Axes>"
            ],
            "image/png": "[encoded data removed]"
          },
          "metadata": {
            "needs_background": "light"
          }
        },
        {
          "output_type": "display_data",
          "data": {
            "text/plain": [
              "<Figure size 432x288 with 1 Axes>"
            ],
            "image/png": "[encoded data removed]"
          },
          "metadata": {
            "needs_background": "light"
          }
        }
      ]
    },
    {
      "cell_type": "markdown",
      "source": [
        "###Σχόλια:##\n",
        "Στα αποτελέσματα φαίνεται μόνο μια ακμή με την μεγαλύτερη τιμή της μετρικής κάθως η εκφώνηση ζητάει να εμφανιστούν οι ΑΜ % 10 ακμές με τις μεγαλύτερες τιμές της μετρικής. Ο ΑΜ μου είναι 03118711 οπότε πέρνουμε μόνο μια.\n"
      ],
      "metadata": {
        "id": "Bv_kDbjbZDZ_"
      },
      "id": "Bv_kDbjbZDZ_"
    },
    {
      "cell_type": "markdown",
      "id": "d432396f",
      "metadata": {
        "id": "d432396f"
      },
      "source": [
        "<html><font size=4><B>3. Πρόβλεψη συνδέσμων βάσει similarity-based μετρικών</B></font>    \n",
        "        <li><B>3(i).</B> Προτείνετε μια τουλάχιστον μέθοδο, για να εξερευνήσουμε και να εκφράσουμε μέσα από τα πακέτα NumPy ή SciPy ή Pandas την συσχέτιση (correlation) μεταξύ των τιμών των μετρικών <B>Jaccard Coefficient</B>, <B>Preferential Attachment</B>, <B>Resource Allocation</B> για τον μειωμένο γράφο $G'$. Σημ.: Δεν χρειάζεται κάποια υλοποίηση, μόνο αναφορά της μεθόδου συσχέτισης και επεξήγηση της επιλογής σας.\n",
        "     <li><B>3(ii).</B> Εργαστείτε πάνω σε <B><U>αντίγραφο</U></B> του dataframe που κατασκευάσατε στο ερώτημα 1(vα) (unconnected+removables). Δημιουργήστε στήλη (column) με τις ακμές του γράφου και θέστε την ως index του dataframe. Στο dataframe θα προσθέσετε ως στήλες τις τιμές των μετρικών (<B>Jaccard Coefficient</B>, <B>Preferential Attachment</B>, <B>Resource Allocation</B>) για τον μειωμένο γράφο $G'$. Οι τιμές των μετρικών μπορούν να υπολογιστούν με τις συναρτήσεις του πακέτου NetworkX.</li>   </font></html>\n",
        "    \n",
        "    |       | link  |Jacc.Coeff.|Pr.Attachment| Resource Allocation|\n",
        "    |-------|-------|-----------|-------------|--------------------|\n",
        "    |(1, 6) |  0    |  0.333333 |     32      |    0.700000        |\n",
        "    |(1, 46)|  0    |  0.200000 |      8      |    0.166667        |"
      ]
    },
    {
      "cell_type": "markdown",
      "source": [
        "##Απάντηση 3(i):##\n",
        "Μπορούμε να χρησιμοποιήσουμε Pearson Correlation Coefficient ο οποίος μπορεί να υλοποιήθέι με:\n",
        "1.   SCIpy χρησιμοποιόντας την εντολή του scipy.stats:  **scipy.stats.pearsonr(x, y).correlation**\n",
        "2.   Pandas χρησιμοποιόντας την εντολή **pandas.corr(x, y**). Η συγγεκριμένη εντολή πέρνει ως παράμετρο την μέθοδο συσχέτισης. Αν δεν οριστεί πέρνει by default την pearson correlation.\n",
        "Ο συντελεστής συσχέτισης Pearson μετράει την  γραμμική συσχέτιση μεταξύ δυο χαρακτηριστικών. Η τιμή της είναι ο λόγος διακύμανσης της x και y ως προς το γινόμενο τον τυπικών αποκλίσεων τους.\n",
        "![image.png](data:image/png;base64,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)\n",
        "\n",
        "Οι τιμές που πέρνει η μεταβλητή r εχουν εύρος [-1,1] και υποδειλώνουν:\n",
        "\n",
        "\n",
        "1.   Για r=1 υπάρχει τέλεια γραμμική σχέση μεταξύ του x και y. (perfect positive linear relationship)\n",
        "\n",
        "2.   Για r>0 θετική σχέση μεταξύ του x και y.(positive correlation)\n",
        "\n",
        "3.   Για r=0 δεν υπάρχει γραμμική συσχέτιση μεταξύ του x και y. (no linear relationship)\n",
        "4.   Για r<0 αρνητική συσχέτιση μεταξύ του x και y.(negative correlation)\n",
        "5.   Για r=-1 δεν υπάρχει τέλεια γραμμική σχέση μεταξύ του x και y.(perfect negative linear relationship)\n",
        "\n",
        "**Ο λόγος επιλογής του Pearson Correlation Coefficient:** είναι το ότι συγγρίνη την γραμμική συσχέτιση και όχι τα ranks των δεδομένων.\n",
        "\n",
        "\n",
        "\n"
      ],
      "metadata": {
        "id": "iJY8WiFpafFS"
      },
      "id": "iJY8WiFpafFS"
    },
    {
      "cell_type": "code",
      "execution_count": null,
      "id": "7c40c8d6",
      "metadata": {
        "id": "7c40c8d6"
      },
      "outputs": [],
      "source": [
        "#replicate of the dataframe \"unconnected+removables\"---dataframe will be used again in (4)"
      ]
    },
    {
      "cell_type": "code",
      "execution_count": null,
      "id": "8c65a3e6",
      "metadata": {
        "id": "8c65a3e6"
      },
      "outputs": [],
      "source": [
        "#dataframe for similarity-based measurement values\n",
        "#Jaccard Coefficient\n",
        "\n",
        "#Preferential Attachment\n",
        "\n",
        "#Resource Allocation"
      ]
    },
    {
      "cell_type": "code",
      "source": [
        "#replicate of the dataframe \"unconnected + removables\"---dataframe will be used again in (4)\n",
        "df_replica = df.copy()\n",
        "# set edge as index\n",
        "df_replica = df_replica.set_index('edge')\n",
        "\n",
        "#Preferential Attachment\n",
        "pref_att_preds = list(nx.algorithms.link_prediction.preferential_attachment(G_reduced))\n",
        "pref_att_pred_vals = []\n",
        "for u, v, p in pref_att_preds:\n",
        "    pref_att_pred_vals.append(p)\n",
        "\n",
        "#Resource Allocation\n",
        "resource_alloc_preds = list(nx.algorithms.link_prediction.resource_allocation_index(G_reduced))\n",
        "resource_alloc_pred_vals = []\n",
        "for u, v, p in resource_alloc_preds:\n",
        "    resource_alloc_pred_vals.append(p)\n",
        "\n",
        "# add the new colums\n",
        "df_replica = df_replica.assign(Jaccard_Coefficient = JC_p_vals, Preferential_Attatchment = pref_att_pred_vals, Resource_Allocation = resource_alloc_pred_vals)\n",
        "df_replica"
      ],
      "metadata": {
        "colab": {
          "base_uri": "https://localhost:8080/",
          "height": 455
        },
        "id": "q39TecSsgM3u",
        "outputId": "bde016a2-93dc-4752-c03c-42428136a48b"
      },
      "id": "q39TecSsgM3u",
      "execution_count": null,
      "outputs": [
        {
          "output_type": "execute_result",
          "data": {
            "text/plain": [
              "            link  Jaccard_Coefficient  Preferential_Attatchment  \\\n",
              "edge                                                              \n",
              "(0, 1)         1                  0.0                         1   \n",
              "(0, 2)         1                  0.0                         2   \n",
              "(0, 3)         1                  0.0                         1   \n",
              "(0, 5)         0                  0.0                         7   \n",
              "(0, 6)         0                  0.0                         1   \n",
              "...          ...                  ...                       ...   \n",
              "(425, 429)     0                  0.0                         1   \n",
              "(426, 427)     0                  0.0                         2   \n",
              "(426, 428)     0                  0.0                         1   \n",
              "(426, 429)     0                  0.0                         1   \n",
              "(428, 429)     0                  1.0                         1   \n",
              "\n",
              "            Resource_Allocation  \n",
              "edge                             \n",
              "(0, 1)                      0.0  \n",
              "(0, 2)                      0.0  \n",
              "(0, 3)                      0.0  \n",
              "(0, 5)                      0.0  \n",
              "(0, 6)                      0.0  \n",
              "...                         ...  \n",
              "(425, 429)                  0.0  \n",
              "(426, 427)                  0.0  \n",
              "(426, 428)                  0.0  \n",
              "(426, 429)                  0.0  \n",
              "(428, 429)                  0.5  \n",
              "\n",
              "[91900 rows x 4 columns]"
            ],
            "text/html": [
              "\n",
              "  <div id=\"df-29126176-50cb-4e48-a5b9-0a4df9f2090a\">\n",
              "    <div class=\"colab-df-container\">\n",
              "      <div>\n",
              "<style scoped>\n",
              "    .dataframe tbody tr th:only-of-type {\n",
              "        vertical-align: middle;\n",
              "    }\n",
              "\n",
              "    .dataframe tbody tr th {\n",
              "        vertical-align: top;\n",
              "    }\n",
              "\n",
              "    .dataframe thead th {\n",
              "        text-align: right;\n",
              "    }\n",
              "</style>\n",
              "<table border=\"1\" class=\"dataframe\">\n",
              "  <thead>\n",
              "    <tr style=\"text-align: right;\">\n",
              "      <th></th>\n",
              "      <th>link</th>\n",
              "      <th>Jaccard_Coefficient</th>\n",
              "      <th>Preferential_Attatchment</th>\n",
              "      <th>Resource_Allocation</th>\n",
              "    </tr>\n",
              "    <tr>\n",
              "      <th>edge</th>\n",
              "      <th></th>\n",
              "      <th></th>\n",
              "      <th></th>\n",
              "      <th></th>\n",
              "    </tr>\n",
              "  </thead>\n",
              "  <tbody>\n",
              "    <tr>\n",
              "      <th>(0, 1)</th>\n",
              "      <td>1</td>\n",
              "      <td>0.0</td>\n",
              "      <td>1</td>\n",
              "      <td>0.0</td>\n",
              "    </tr>\n",
              "    <tr>\n",
              "      <th>(0, 2)</th>\n",
              "      <td>1</td>\n",
              "      <td>0.0</td>\n",
              "      <td>2</td>\n",
              "      <td>0.0</td>\n",
              "    </tr>\n",
              "    <tr>\n",
              "      <th>(0, 3)</th>\n",
              "      <td>1</td>\n",
              "      <td>0.0</td>\n",
              "      <td>1</td>\n",
              "      <td>0.0</td>\n",
              "    </tr>\n",
              "    <tr>\n",
              "      <th>(0, 5)</th>\n",
              "      <td>0</td>\n",
              "      <td>0.0</td>\n",
              "      <td>7</td>\n",
              "      <td>0.0</td>\n",
              "    </tr>\n",
              "    <tr>\n",
              "      <th>(0, 6)</th>\n",
              "      <td>0</td>\n",
              "      <td>0.0</td>\n",
              "      <td>1</td>\n",
              "      <td>0.0</td>\n",
              "    </tr>\n",
              "    <tr>\n",
              "      <th>...</th>\n",
              "      <td>...</td>\n",
              "      <td>...</td>\n",
              "      <td>...</td>\n",
              "      <td>...</td>\n",
              "    </tr>\n",
              "    <tr>\n",
              "      <th>(425, 429)</th>\n",
              "      <td>0</td>\n",
              "      <td>0.0</td>\n",
              "      <td>1</td>\n",
              "      <td>0.0</td>\n",
              "    </tr>\n",
              "    <tr>\n",
              "      <th>(426, 427)</th>\n",
              "      <td>0</td>\n",
              "      <td>0.0</td>\n",
              "      <td>2</td>\n",
              "      <td>0.0</td>\n",
              "    </tr>\n",
              "    <tr>\n",
              "      <th>(426, 428)</th>\n",
              "      <td>0</td>\n",
              "      <td>0.0</td>\n",
              "      <td>1</td>\n",
              "      <td>0.0</td>\n",
              "    </tr>\n",
              "    <tr>\n",
              "      <th>(426, 429)</th>\n",
              "      <td>0</td>\n",
              "      <td>0.0</td>\n",
              "      <td>1</td>\n",
              "      <td>0.0</td>\n",
              "    </tr>\n",
              "    <tr>\n",
              "      <th>(428, 429)</th>\n",
              "      <td>0</td>\n",
              "      <td>1.0</td>\n",
              "      <td>1</td>\n",
              "      <td>0.5</td>\n",
              "    </tr>\n",
              "  </tbody>\n",
              "</table>\n",
              "<p>91900 rows × 4 columns</p>\n",
              "</div>\n",
              "      <button class=\"colab-df-convert\" onclick=\"convertToInteractive('df-29126176-50cb-4e48-a5b9-0a4df9f2090a')\"\n",
              "              title=\"Convert this dataframe to an interactive table.\"\n",
              "              style=\"display:none;\">\n",
              "        \n",
              "  <svg xmlns=\"http://www.w3.org/2000/svg\" height=\"24px\"viewBox=\"0 0 24 24\"\n",
              "       width=\"24px\">\n",
              "    <path d=\"M0 0h24v24H0V0z\" fill=\"none\"/>\n",
              "    <path d=\"M18.56 5.44l.94 2.06.94-2.06 2.06-.94-2.06-.94-.94-2.06-.94 2.06-2.06.94zm-11 1L8.5 8.5l.94-2.06 2.06-.94-2.06-.94L8.5 2.5l-.94 2.06-2.06.94zm10 10l.94 2.06.94-2.06 2.06-.94-2.06-.94-.94-2.06-.94 2.06-2.06.94z\"/><path d=\"M17.41 7.96l-1.37-1.37c-.4-.4-.92-.59-1.43-.59-.52 0-1.04.2-1.43.59L10.3 9.45l-7.72 7.72c-.78.78-.78 2.05 0 2.83L4 21.41c.39.39.9.59 1.41.59.51 0 1.02-.2 1.41-.59l7.78-7.78 2.81-2.81c.8-.78.8-2.07 0-2.86zM5.41 20L4 18.59l7.72-7.72 1.47 1.35L5.41 20z\"/>\n",
              "  </svg>\n",
              "      </button>\n",
              "      \n",
              "  <style>\n",
              "    .colab-df-container {\n",
              "      display:flex;\n",
              "      flex-wrap:wrap;\n",
              "      gap: 12px;\n",
              "    }\n",
              "\n",
              "    .colab-df-convert {\n",
              "      background-color: #E8F0FE;\n",
              "      border: none;\n",
              "      border-radius: 50%;\n",
              "      cursor: pointer;\n",
              "      display: none;\n",
              "      fill: #1967D2;\n",
              "      height: 32px;\n",
              "      padding: 0 0 0 0;\n",
              "      width: 32px;\n",
              "    }\n",
              "\n",
              "    .colab-df-convert:hover {\n",
              "      background-color: #E2EBFA;\n",
              "      box-shadow: 0px 1px 2px rgba(60, 64, 67, 0.3), 0px 1px 3px 1px rgba(60, 64, 67, 0.15);\n",
              "      fill: #174EA6;\n",
              "    }\n",
              "\n",
              "    [theme=dark] .colab-df-convert {\n",
              "      background-color: #3B4455;\n",
              "      fill: #D2E3FC;\n",
              "    }\n",
              "\n",
              "    [theme=dark] .colab-df-convert:hover {\n",
              "      background-color: #434B5C;\n",
              "      box-shadow: 0px 1px 3px 1px rgba(0, 0, 0, 0.15);\n",
              "      filter: drop-shadow(0px 1px 2px rgba(0, 0, 0, 0.3));\n",
              "      fill: #FFFFFF;\n",
              "    }\n",
              "  </style>\n",
              "\n",
              "      <script>\n",
              "        const buttonEl =\n",
              "          document.querySelector('#df-29126176-50cb-4e48-a5b9-0a4df9f2090a button.colab-df-convert');\n",
              "        buttonEl.style.display =\n",
              "          google.colab.kernel.accessAllowed ? 'block' : 'none';\n",
              "\n",
              "        async function convertToInteractive(key) {\n",
              "          const element = document.querySelector('#df-29126176-50cb-4e48-a5b9-0a4df9f2090a');\n",
              "          const dataTable =\n",
              "            await google.colab.kernel.invokeFunction('convertToInteractive',\n",
              "                                                     [key], {});\n",
              "          if (!dataTable) return;\n",
              "\n",
              "          const docLinkHtml = 'Like what you see? Visit the ' +\n",
              "            '<a target=\"_blank\" href=https://colab.research.google.com/notebooks/data_table.ipynb>data table notebook</a>'\n",
              "            + ' to learn more about interactive tables.';\n",
              "          element.innerHTML = '';\n",
              "          dataTable['output_type'] = 'display_data';\n",
              "          await google.colab.output.renderOutput(dataTable, element);\n",
              "          const docLink = document.createElement('div');\n",
              "          docLink.innerHTML = docLinkHtml;\n",
              "          element.appendChild(docLink);\n",
              "        }\n",
              "      </script>\n",
              "    </div>\n",
              "  </div>\n",
              "  "
            ]
          },
          "metadata": {},
          "execution_count": 19
        }
      ]
    },
    {
      "cell_type": "markdown",
      "id": "76f9318d",
      "metadata": {
        "id": "76f9318d"
      },
      "source": [
        "<li><B>3(iiiα).</B> Χρησιμοποιήστε τον Random Forest Classifier και το αντίγραφο dataframe που κατασκευάσατε στο ερώτημα 3(ii), για να προβλέψετε συνδέσεις. Συμπληρώστε στον κώδικα: τα features ($X$), την target variable ($y$) και τα ορίσματα της συνάρτησης $fit$ για το training του μοντέλου.</li>\n",
        "<li><B>3(iiiβ).</B> Δώστε τις ($A.M$ $mod$ $10$) πρώτες προβλέψεις και την ακρίβεια ($accuracy$) του μοντέλου. </li>\n",
        "<li><B>3(iiiγ).</B>Υπολογίστε την πιθανότητα να συνδεθούν οι κόμβοι ($1$,$47$) βάσει του μοντέλου σας. </li>  "
      ]
    },
    {
      "cell_type": "code",
      "execution_count": null,
      "id": "df4a65f5",
      "metadata": {
        "id": "df4a65f5"
      },
      "outputs": [],
      "source": [
        "from sklearn.model_selection import train_test_split\n",
        "from sklearn.ensemble import RandomForestClassifier\n",
        "from sklearn.metrics import accuracy_score\n",
        "from sklearn.model_selection import GridSearchCV\n",
        "\n",
        "X = df_replica[[\"Jaccard_Coefficient\", \"Preferential_Attatchment\", \"Resource_Allocation\"]]\n",
        "y = df_replica['link']\n",
        "\n",
        "X_train, X_test, y_train, y_test = train_test_split(X, y, random_state = 0)"
      ]
    },
    {
      "cell_type": "code",
      "execution_count": null,
      "id": "26affc3a",
      "metadata": {
        "id": "26affc3a"
      },
      "outputs": [],
      "source": [
        "# 3(iiia)\n",
        "classifier = RandomForestClassifier()\n",
        "\n",
        "from sklearn.preprocessing import MinMaxScaler\n",
        "mm_scaler = MinMaxScaler()\n",
        "X_train_scaled = mm_scaler.fit_transform(X_train)\n",
        "X_test_scaled = mm_scaler.transform(X_test)\n",
        "\n",
        "parameters = { 'n_estimators': [10, 50, 100], 'max_depth': [5, 10, 15] }\n",
        "model = GridSearchCV(classifier, param_grid = parameters)"
      ]
    },
    {
      "cell_type": "code",
      "execution_count": null,
      "id": "431e2d35",
      "metadata": {
        "colab": {
          "base_uri": "https://localhost:8080/"
        },
        "id": "431e2d35",
        "outputId": "996f8c89-1ed4-4822-c413-baa3f015dd53"
      },
      "outputs": [
        {
          "output_type": "execute_result",
          "data": {
            "text/plain": [
              "GridSearchCV(estimator=RandomForestClassifier(),\n",
              "             param_grid={'max_depth': [5, 10, 15],\n",
              "                         'n_estimators': [10, 50, 100]})"
            ]
          },
          "metadata": {},
          "execution_count": 23
        }
      ],
      "source": [
        "model.fit(X_train_scaled, y_train)"
      ]
    },
    {
      "cell_type": "code",
      "execution_count": null,
      "id": "1b075584",
      "metadata": {
        "colab": {
          "base_uri": "https://localhost:8080/"
        },
        "id": "1b075584",
        "outputId": "528625be-7658-4b27-e46f-7573c4945ddf"
      },
      "outputs": [
        {
          "output_type": "stream",
          "name": "stdout",
          "text": [
            "First Prediction: 0\n",
            "Accuracy: 0.9987377584330794\n"
          ]
        }
      ],
      "source": [
        "# 3(iiib) AM = 1 % 10 = 1 -> show the first prediction only\n",
        "predictions = model.predict(X_test_scaled)\n",
        "print(\"First Prediction:\", predictions[0])\n",
        "print(\"Accuracy:\", accuracy_score(y_test, predictions))"
      ]
    },
    {
      "cell_type": "code",
      "execution_count": null,
      "id": "b042eca7",
      "metadata": {
        "colab": {
          "base_uri": "https://localhost:8080/"
        },
        "id": "b042eca7",
        "outputId": "b3855125-a38f-4a7c-ec27-984ee81959b2"
      },
      "outputs": [
        {
          "output_type": "stream",
          "name": "stdout",
          "text": [
            "Probability of Nodes 1 - 47 connecting: 0.00023888727986016414\n"
          ]
        }
      ],
      "source": [
        "#3(iiic)\n",
        "edge1_47 = df_replica.loc[[(0, 46)]]\n",
        "edge1_47_f = edge1_47[[\"Jaccard_Coefficient\", \"Preferential_Attatchment\", \"Resource_Allocation\"]]\n",
        "edge1_47_scaled = mm_scaler.transform(edge1_47_f)\n",
        "edge1_47_proba = model.predict_proba(edge1_47_scaled)\n",
        "\n",
        "print(\"Probability of Nodes 1 - 47 connecting:\", edge1_47_proba[0][1])"
      ]
    },
    {
      "cell_type": "markdown",
      "id": "f4c43988",
      "metadata": {
        "id": "f4c43988"
      },
      "source": [
        "<html><font size=4><B>4. Πρόβλεψη συνδέσμων με embedding βασισμένο σε τυχαίους περιπάτους (Random Walks) </B></font><BR><BR>\n",
        "    <li><B>4(i).</B> Εξάγετε τα χαρακτηριστικά (features) του γράφου $G'$, που προέκυψε από την αφαίρεση των ακμών. Για τον σκοπό αυτό χρησιμοποιήστε τον αλγόριθμο <B>Node2vec</B> <a href=\"https://cs.stanford.edu/~jure/pubs/node2vec-kdd16.pdf\">[3]</a>. Ο αλγόριθμος αντιστοιχίζει τους κόμβους του γράφου μέσω τυχαίων περιπάτων (biased 2nd order random walks) σε ένα χώρο μικρού αριθμού διαστάσεων (low dimensional space) διατηρώντας την μεταξύ τους γειτνίαση.\n",
        "        <BR>Για την επιλογή των παραμέτρων:\n",
        "            <li>p - παράμετρος τυχαίων περιπάτων p που καθορίζει την πιθανότητα “1/p” επιστροφής στον κόμβο προέλευσης (source node), </li>\n",
        "                <li>q - παράμετρος τυχαίων περιπάτων q που καθορίζει την πιθανότητα  “1/q” μετακίνησης σε κόμβο μακριά από τον κόμβο προέλευσης (source node), </li>\n",
        "                 <li>dimensions - πλήθος διαστάσεων των Node2Vec embeddings, </li>\n",
        "                     <li>num_walks - αριθμός περιπάτων από κάθε κόμβο, </li>\n",
        "                         <li>walk_length - μήκος τυχαίου περιπάτου, </li>\n",
        "                             <li>window_size - μέγεθος παραθύρου context για τον αλγόριθμο Word2Vec, </li><li>num_iter - αριθμός SGD επαναλήψεων (epochs), </li>\n",
        "            <li>workers - αριθμός workers για τον Word2Vec,</li>\n",
        "            χρησιμοποιήστε τις τιμές:   </html>\n",
        "   \n",
        "                   "
      ]
    },
    {
      "cell_type": "markdown",
      "id": "fdbc5274",
      "metadata": {
        "id": "fdbc5274"
      },
      "source": [
        " |   p   |   q   | dimensions|  num_walks  |walk_length |window_size|        workers            |\n",
        " |-------|-------|-----------|-------------|------------|-----------|---------------------------|\n",
        " |  1.0  |  1.0  |  128      |     10      |    80      |     10    |multiprocessing.cpu_count()|"
      ]
    },
    {
      "cell_type": "code",
      "execution_count": null,
      "id": "aa8e668d",
      "metadata": {
        "id": "aa8e668d"
      },
      "outputs": [],
      "source": [
        "#install node2vec with conda / pip\n",
        "#from node2vec import Node2Vec   #uncomment\n",
        "#import multiprocessing          #uncomment\n",
        "\n",
        "#generate walks\n",
        "#node2vec_walker = Node2Vec(, , , , , , ) #uncomment and complete\n",
        "\n",
        "#train node2vec model\n",
        "#n2v_model = node2vec_walker.fit(window= , min_count=1) #uncomment and complete"
      ]
    },
    {
      "cell_type": "code",
      "source": [
        "!!pip install node2vec"
      ],
      "metadata": {
        "colab": {
          "base_uri": "https://localhost:8080/"
        },
        "id": "QkrbzZXkijvk",
        "outputId": "bb2c04d3-700d-45fc-b5fd-f509c784697d"
      },
      "id": "QkrbzZXkijvk",
      "execution_count": null,
      "outputs": [
        {
          "output_type": "execute_result",
          "data": {
            "text/plain": [
              "['Looking in indexes: https://pypi.org/simple, https://us-python.pkg.dev/colab-wheels/public/simple/',\n",
              " 'Requirement already satisfied: node2vec in /usr/local/lib/python3.8/dist-packages (0.4.6)',\n",
              " 'Requirement already satisfied: joblib<2.0.0,>=1.1.0 in /usr/local/lib/python3.8/dist-packages (from node2vec) (1.2.0)',\n",
              " 'Requirement already satisfied: networkx<3.0,>=2.5 in /usr/local/lib/python3.8/dist-packages (from node2vec) (2.8.8)',\n",
              " 'Requirement already satisfied: gensim<5.0.0,>=4.1.2 in /usr/local/lib/python3.8/dist-packages (from node2vec) (4.3.0)',\n",
              " 'Requirement already satisfied: numpy<2.0.0,>=1.19.5 in /usr/local/lib/python3.8/dist-packages (from node2vec) (1.21.6)',\n",
              " 'Requirement already satisfied: tqdm<5.0.0,>=4.55.1 in /usr/local/lib/python3.8/dist-packages (from node2vec) (4.64.1)',\n",
              " 'Requirement already satisfied: scipy>=1.7.0 in /usr/local/lib/python3.8/dist-packages (from gensim<5.0.0,>=4.1.2->node2vec) (1.7.3)',\n",
              " 'Requirement already satisfied: FuzzyTM>=0.4.0 in /usr/local/lib/python3.8/dist-packages (from gensim<5.0.0,>=4.1.2->node2vec) (2.0.5)',\n",
              " 'Requirement already satisfied: smart-open>=1.8.1 in /usr/local/lib/python3.8/dist-packages (from gensim<5.0.0,>=4.1.2->node2vec) (6.3.0)',\n",
              " 'Requirement already satisfied: pandas in /usr/local/lib/python3.8/dist-packages (from FuzzyTM>=0.4.0->gensim<5.0.0,>=4.1.2->node2vec) (1.3.5)',\n",
              " 'Requirement already satisfied: pyfume in /usr/local/lib/python3.8/dist-packages (from FuzzyTM>=0.4.0->gensim<5.0.0,>=4.1.2->node2vec) (0.2.25)',\n",
              " 'Requirement already satisfied: python-dateutil>=2.7.3 in /usr/local/lib/python3.8/dist-packages (from pandas->FuzzyTM>=0.4.0->gensim<5.0.0,>=4.1.2->node2vec) (2.8.2)',\n",
              " 'Requirement already satisfied: pytz>=2017.3 in /usr/local/lib/python3.8/dist-packages (from pandas->FuzzyTM>=0.4.0->gensim<5.0.0,>=4.1.2->node2vec) (2022.6)',\n",
              " 'Requirement already satisfied: six>=1.5 in /usr/local/lib/python3.8/dist-packages (from python-dateutil>=2.7.3->pandas->FuzzyTM>=0.4.0->gensim<5.0.0,>=4.1.2->node2vec) (1.15.0)',\n",
              " 'Requirement already satisfied: fst-pso in /usr/local/lib/python3.8/dist-packages (from pyfume->FuzzyTM>=0.4.0->gensim<5.0.0,>=4.1.2->node2vec) (1.8.1)',\n",
              " 'Requirement already satisfied: simpful in /usr/local/lib/python3.8/dist-packages (from pyfume->FuzzyTM>=0.4.0->gensim<5.0.0,>=4.1.2->node2vec) (2.9.0)',\n",
              " 'Requirement already satisfied: miniful in /usr/local/lib/python3.8/dist-packages (from fst-pso->pyfume->FuzzyTM>=0.4.0->gensim<5.0.0,>=4.1.2->node2vec) (0.0.6)',\n",
              " 'Requirement already satisfied: requests in /usr/local/lib/python3.8/dist-packages (from simpful->pyfume->FuzzyTM>=0.4.0->gensim<5.0.0,>=4.1.2->node2vec) (2.23.0)',\n",
              " 'Requirement already satisfied: certifi>=2017.4.17 in /usr/local/lib/python3.8/dist-packages (from requests->simpful->pyfume->FuzzyTM>=0.4.0->gensim<5.0.0,>=4.1.2->node2vec) (2022.12.7)',\n",
              " 'Requirement already satisfied: idna<3,>=2.5 in /usr/local/lib/python3.8/dist-packages (from requests->simpful->pyfume->FuzzyTM>=0.4.0->gensim<5.0.0,>=4.1.2->node2vec) (2.10)',\n",
              " 'Requirement already satisfied: chardet<4,>=3.0.2 in /usr/local/lib/python3.8/dist-packages (from requests->simpful->pyfume->FuzzyTM>=0.4.0->gensim<5.0.0,>=4.1.2->node2vec) (3.0.4)',\n",
              " 'Requirement already satisfied: urllib3!=1.25.0,!=1.25.1,<1.26,>=1.21.1 in /usr/local/lib/python3.8/dist-packages (from requests->simpful->pyfume->FuzzyTM>=0.4.0->gensim<5.0.0,>=4.1.2->node2vec) (1.24.3)']"
            ]
          },
          "metadata": {},
          "execution_count": 34
        }
      ]
    },
    {
      "cell_type": "code",
      "source": [
        "from node2vec import Node2Vec\n",
        "import multiprocessing\n",
        "\n",
        "#generate walks\n",
        "node2vec_walker = Node2Vec(\n",
        "    G_reduced,\n",
        "    p = 1.0,\n",
        "    q = 1.0,\n",
        "    dimensions = 128,\n",
        "    num_walks = 10,\n",
        "    walk_length = 80,\n",
        "    workers = multiprocessing.cpu_count()\n",
        ")\n",
        "\n",
        "#train node2vec model\n",
        "n2v_model = node2vec_walker.fit(window = 10, min_count = 1)"
      ],
      "metadata": {
        "colab": {
          "base_uri": "https://localhost:8080/",
          "height": 294
        },
        "id": "myDZEceFihxr",
        "outputId": "788c7297-761d-45d2-d52b-4658d3200b65"
      },
      "id": "myDZEceFihxr",
      "execution_count": null,
      "outputs": [
        {
          "output_type": "error",
          "ename": "ValueError",
          "evalue": "ignored",
          "traceback": [
            "\u001b[0;31m---------------------------------------------------------------------------\u001b[0m",
            "\u001b[0;31mValueError\u001b[0m                                Traceback (most recent call last)",
            "\u001b[0;32m<ipython-input-35-fe416b794ac4>\u001b[0m in \u001b[0;36m<module>\u001b[0;34m\u001b[0m\n\u001b[0;32m----> 1\u001b[0;31m \u001b[0;32mfrom\u001b[0m \u001b[0mnode2vec\u001b[0m \u001b[0;32mimport\u001b[0m \u001b[0mNode2Vec\u001b[0m\u001b[0;34m\u001b[0m\u001b[0;34m\u001b[0m\u001b[0m\n\u001b[0m\u001b[1;32m      2\u001b[0m \u001b[0;32mimport\u001b[0m \u001b[0mmultiprocessing\u001b[0m\u001b[0;34m\u001b[0m\u001b[0;34m\u001b[0m\u001b[0m\n\u001b[1;32m      3\u001b[0m \u001b[0;34m\u001b[0m\u001b[0m\n\u001b[1;32m      4\u001b[0m \u001b[0;31m#generate walks\u001b[0m\u001b[0;34m\u001b[0m\u001b[0;34m\u001b[0m\u001b[0;34m\u001b[0m\u001b[0m\n\u001b[1;32m      5\u001b[0m node2vec_walker = Node2Vec(\n",
            "\u001b[0;32m/usr/local/lib/python3.8/dist-packages/node2vec/__init__.py\u001b[0m in \u001b[0;36m<module>\u001b[0;34m\u001b[0m\n\u001b[0;32m----> 1\u001b[0;31m \u001b[0;32mfrom\u001b[0m \u001b[0;34m.\u001b[0m \u001b[0;32mimport\u001b[0m \u001b[0medges\u001b[0m\u001b[0;34m\u001b[0m\u001b[0;34m\u001b[0m\u001b[0m\n\u001b[0m\u001b[1;32m      2\u001b[0m \u001b[0;32mfrom\u001b[0m \u001b[0;34m.\u001b[0m\u001b[0mnode2vec\u001b[0m \u001b[0;32mimport\u001b[0m \u001b[0mNode2Vec\u001b[0m\u001b[0;34m\u001b[0m\u001b[0;34m\u001b[0m\u001b[0m\n\u001b[1;32m      3\u001b[0m \u001b[0;32mfrom\u001b[0m \u001b[0mimportlib\u001b[0m \u001b[0;32mimport\u001b[0m \u001b[0mmetadata\u001b[0m\u001b[0;34m\u001b[0m\u001b[0;34m\u001b[0m\u001b[0m\n\u001b[1;32m      4\u001b[0m \u001b[0;34m\u001b[0m\u001b[0m\n\u001b[1;32m      5\u001b[0m \u001b[0m__version__\u001b[0m \u001b[0;34m=\u001b[0m \u001b[0mmetadata\u001b[0m\u001b[0;34m.\u001b[0m\u001b[0mversion\u001b[0m\u001b[0;34m(\u001b[0m\u001b[0;34m'node2vec'\u001b[0m\u001b[0;34m)\u001b[0m\u001b[0;34m\u001b[0m\u001b[0;34m\u001b[0m\u001b[0m\n",
            "\u001b[0;32m/usr/local/lib/python3.8/dist-packages/node2vec/edges.py\u001b[0m in \u001b[0;36m<module>\u001b[0;34m\u001b[0m\n\u001b[1;32m      5\u001b[0m \u001b[0;32mimport\u001b[0m \u001b[0mnumpy\u001b[0m \u001b[0;32mas\u001b[0m \u001b[0mnp\u001b[0m\u001b[0;34m\u001b[0m\u001b[0;34m\u001b[0m\u001b[0m\n\u001b[1;32m      6\u001b[0m \u001b[0;32mimport\u001b[0m \u001b[0mpkg_resources\u001b[0m\u001b[0;34m\u001b[0m\u001b[0;34m\u001b[0m\u001b[0m\n\u001b[0;32m----> 7\u001b[0;31m \u001b[0;32mfrom\u001b[0m \u001b[0mgensim\u001b[0m\u001b[0;34m.\u001b[0m\u001b[0mmodels\u001b[0m \u001b[0;32mimport\u001b[0m \u001b[0mKeyedVectors\u001b[0m\u001b[0;34m\u001b[0m\u001b[0;34m\u001b[0m\u001b[0m\n\u001b[0m\u001b[1;32m      8\u001b[0m \u001b[0;32mfrom\u001b[0m \u001b[0mtqdm\u001b[0m \u001b[0;32mimport\u001b[0m \u001b[0mtqdm\u001b[0m\u001b[0;34m\u001b[0m\u001b[0;34m\u001b[0m\u001b[0m\n\u001b[1;32m      9\u001b[0m \u001b[0;34m\u001b[0m\u001b[0m\n",
            "\u001b[0;32m/usr/local/lib/python3.8/dist-packages/gensim/__init__.py\u001b[0m in \u001b[0;36m<module>\u001b[0;34m\u001b[0m\n\u001b[1;32m      9\u001b[0m \u001b[0;32mimport\u001b[0m \u001b[0mlogging\u001b[0m\u001b[0;34m\u001b[0m\u001b[0;34m\u001b[0m\u001b[0m\n\u001b[1;32m     10\u001b[0m \u001b[0;34m\u001b[0m\u001b[0m\n\u001b[0;32m---> 11\u001b[0;31m \u001b[0;32mfrom\u001b[0m \u001b[0mgensim\u001b[0m \u001b[0;32mimport\u001b[0m \u001b[0mparsing\u001b[0m\u001b[0;34m,\u001b[0m \u001b[0mcorpora\u001b[0m\u001b[0;34m,\u001b[0m \u001b[0mmatutils\u001b[0m\u001b[0;34m,\u001b[0m \u001b[0minterfaces\u001b[0m\u001b[0;34m,\u001b[0m \u001b[0mmodels\u001b[0m\u001b[0;34m,\u001b[0m \u001b[0msimilarities\u001b[0m\u001b[0;34m,\u001b[0m \u001b[0mutils\u001b[0m  \u001b[0;31m# noqa:F401\u001b[0m\u001b[0;34m\u001b[0m\u001b[0;34m\u001b[0m\u001b[0m\n\u001b[0m\u001b[1;32m     12\u001b[0m \u001b[0;34m\u001b[0m\u001b[0m\n\u001b[1;32m     13\u001b[0m \u001b[0;34m\u001b[0m\u001b[0m\n",
            "\u001b[0;32m/usr/local/lib/python3.8/dist-packages/gensim/corpora/__init__.py\u001b[0m in \u001b[0;36m<module>\u001b[0;34m\u001b[0m\n\u001b[1;32m      4\u001b[0m \u001b[0;34m\u001b[0m\u001b[0m\n\u001b[1;32m      5\u001b[0m \u001b[0;31m# bring corpus classes directly into package namespace, to save some typing\u001b[0m\u001b[0;34m\u001b[0m\u001b[0;34m\u001b[0m\u001b[0;34m\u001b[0m\u001b[0m\n\u001b[0;32m----> 6\u001b[0;31m \u001b[0;32mfrom\u001b[0m \u001b[0;34m.\u001b[0m\u001b[0mindexedcorpus\u001b[0m \u001b[0;32mimport\u001b[0m \u001b[0mIndexedCorpus\u001b[0m  \u001b[0;31m# noqa:F401 must appear before the other classes\u001b[0m\u001b[0;34m\u001b[0m\u001b[0;34m\u001b[0m\u001b[0m\n\u001b[0m\u001b[1;32m      7\u001b[0m \u001b[0;34m\u001b[0m\u001b[0m\n\u001b[1;32m      8\u001b[0m \u001b[0;32mfrom\u001b[0m \u001b[0;34m.\u001b[0m\u001b[0mmmcorpus\u001b[0m \u001b[0;32mimport\u001b[0m \u001b[0mMmCorpus\u001b[0m  \u001b[0;31m# noqa:F401\u001b[0m\u001b[0;34m\u001b[0m\u001b[0;34m\u001b[0m\u001b[0m\n",
            "\u001b[0;32m/usr/local/lib/python3.8/dist-packages/gensim/corpora/indexedcorpus.py\u001b[0m in \u001b[0;36m<module>\u001b[0;34m\u001b[0m\n\u001b[1;32m     12\u001b[0m \u001b[0;32mimport\u001b[0m \u001b[0mnumpy\u001b[0m\u001b[0;34m\u001b[0m\u001b[0;34m\u001b[0m\u001b[0m\n\u001b[1;32m     13\u001b[0m \u001b[0;34m\u001b[0m\u001b[0m\n\u001b[0;32m---> 14\u001b[0;31m \u001b[0;32mfrom\u001b[0m \u001b[0mgensim\u001b[0m \u001b[0;32mimport\u001b[0m \u001b[0minterfaces\u001b[0m\u001b[0;34m,\u001b[0m \u001b[0mutils\u001b[0m\u001b[0;34m\u001b[0m\u001b[0;34m\u001b[0m\u001b[0m\n\u001b[0m\u001b[1;32m     15\u001b[0m \u001b[0;34m\u001b[0m\u001b[0m\n\u001b[1;32m     16\u001b[0m \u001b[0mlogger\u001b[0m \u001b[0;34m=\u001b[0m \u001b[0mlogging\u001b[0m\u001b[0;34m.\u001b[0m\u001b[0mgetLogger\u001b[0m\u001b[0;34m(\u001b[0m\u001b[0m__name__\u001b[0m\u001b[0;34m)\u001b[0m\u001b[0;34m\u001b[0m\u001b[0;34m\u001b[0m\u001b[0m\n",
            "\u001b[0;32m/usr/local/lib/python3.8/dist-packages/gensim/interfaces.py\u001b[0m in \u001b[0;36m<module>\u001b[0;34m\u001b[0m\n\u001b[1;32m     17\u001b[0m \u001b[0;32mimport\u001b[0m \u001b[0mlogging\u001b[0m\u001b[0;34m\u001b[0m\u001b[0;34m\u001b[0m\u001b[0m\n\u001b[1;32m     18\u001b[0m \u001b[0;34m\u001b[0m\u001b[0m\n\u001b[0;32m---> 19\u001b[0;31m \u001b[0;32mfrom\u001b[0m \u001b[0mgensim\u001b[0m \u001b[0;32mimport\u001b[0m \u001b[0mutils\u001b[0m\u001b[0;34m,\u001b[0m \u001b[0mmatutils\u001b[0m\u001b[0;34m\u001b[0m\u001b[0;34m\u001b[0m\u001b[0m\n\u001b[0m\u001b[1;32m     20\u001b[0m \u001b[0;34m\u001b[0m\u001b[0m\n\u001b[1;32m     21\u001b[0m \u001b[0;34m\u001b[0m\u001b[0m\n",
            "\u001b[0;32m/usr/local/lib/python3.8/dist-packages/gensim/matutils.py\u001b[0m in \u001b[0;36m<module>\u001b[0;34m\u001b[0m\n\u001b[1;32m   1028\u001b[0m \u001b[0;32mtry\u001b[0m\u001b[0;34m:\u001b[0m\u001b[0;34m\u001b[0m\u001b[0;34m\u001b[0m\u001b[0m\n\u001b[1;32m   1029\u001b[0m     \u001b[0;31m# try to load fast, cythonized code if possible\u001b[0m\u001b[0;34m\u001b[0m\u001b[0;34m\u001b[0m\u001b[0;34m\u001b[0m\u001b[0m\n\u001b[0;32m-> 1030\u001b[0;31m     \u001b[0;32mfrom\u001b[0m \u001b[0mgensim\u001b[0m\u001b[0;34m.\u001b[0m\u001b[0m_matutils\u001b[0m \u001b[0;32mimport\u001b[0m \u001b[0mlogsumexp\u001b[0m\u001b[0;34m,\u001b[0m \u001b[0mmean_absolute_difference\u001b[0m\u001b[0;34m,\u001b[0m \u001b[0mdirichlet_expectation\u001b[0m\u001b[0;34m\u001b[0m\u001b[0;34m\u001b[0m\u001b[0m\n\u001b[0m\u001b[1;32m   1031\u001b[0m \u001b[0;34m\u001b[0m\u001b[0m\n\u001b[1;32m   1032\u001b[0m \u001b[0;32mexcept\u001b[0m \u001b[0mImportError\u001b[0m\u001b[0;34m:\u001b[0m\u001b[0;34m\u001b[0m\u001b[0;34m\u001b[0m\u001b[0m\n",
            "\u001b[0;32m/usr/local/lib/python3.8/dist-packages/gensim/_matutils.pyx\u001b[0m in \u001b[0;36minit gensim._matutils\u001b[0;34m()\u001b[0m\n",
            "\u001b[0;31mValueError\u001b[0m: numpy.ndarray size changed, may indicate binary incompatibility. Expected 96 from C header, got 88 from PyObject"
          ]
        }
      ]
    },
    {
      "cell_type": "markdown",
      "id": "294f0aab",
      "metadata": {
        "id": "294f0aab"
      },
      "source": [
        "<html><font>\n",
        "    <li><B>4(ii).</B> Εφαρμόστε τον αλγόριθμο Random Forest Classifier, για να προβλέψετε τις συνδέσεις.</li><BR>\n",
        "    <li><B>4(iii).</B> Υπολογίστε την ακρίβεια ($accuracy$) του μοντέλου. </li><BR></font></html>"
      ]
    },
    {
      "cell_type": "code",
      "execution_count": null,
      "id": "6269b89a",
      "metadata": {
        "id": "6269b89a"
      },
      "outputs": [],
      "source": [
        "#apply trained Node2Vec model on each node pair of the dataframe \"unconnected+removables\"\n",
        "#uncomment:\n",
        "#x = [(n2v_model.wv[str(i)]+n2v_model.wv[str(j)]) for i,j in zip(df_with_target_var['node_1'], df_with_target_var['node_2'])]\n",
        "X = [(n2v_model.wv[str(i)] + n2v_model.wv[str(j)]) for i, j in df[\"edge\"]]"
      ]
    },
    {
      "cell_type": "code",
      "execution_count": null,
      "id": "b74e7aa7",
      "metadata": {
        "id": "b74e7aa7"
      },
      "outputs": [],
      "source": [
        "#X_train, X_test, y_train, y_test = train_test_split(, , random_state = 0)  #uncomment and complete\n",
        "X_train, X_test, y_train, y_test = train_test_split(X, y, random_state = 0)"
      ]
    },
    {
      "cell_type": "code",
      "execution_count": null,
      "id": "e75cfde7",
      "metadata": {
        "id": "e75cfde7"
      },
      "outputs": [],
      "source": [
        "#uncomment whole cell\n",
        "#from sklearn.ensemble import RandomForestClassifier\n",
        "#from sklearn.metrics import accuracy_score\n",
        "\n",
        "#classifier = RandomForestClassifier(max_depth=2, random_state=0)\n",
        "#classifier.fit()   #uncomment and complete\n",
        "from sklearn.ensemble import RandomForestClassifier\n",
        "from sklearn.metrics import accuracy_score\n",
        "\n",
        "classifier = RandomForestClassifier(max_depth = 2, random_state = 0)\n",
        "classifier.fit(X_train, y_train)\n",
        "\n",
        "y_pred = classifier.predict(X_test)\n",
        "print(\"Accuracy:\", accuracy_score(y_test, y_pred))"
      ]
    },
    {
      "cell_type": "markdown",
      "id": "a0c0b3bb",
      "metadata": {
        "id": "a0c0b3bb"
      },
      "source": [
        "<html><font size=4> <B><U>Ερώτηση bonus (+10/100)</U><B>: </font>Για τους binary operators για learning των edge features με τον αλγόριθμο Node2Vec που αναφέρονται στο <a href=\"https://cs.stanford.edu/~jure/pubs/node2vec-kdd16.pdf\">[3]</a> ((α) Average, (β) Hadamard, (γ) Weighted-L1 και (δ) Weighted-L2) τροποποιήστε τoν κώδικά σας και σημειώστε τις παρατηρήσεις σας ως προς την απόδοση του αλγορίθμου.</font></html>"
      ]
    },
    {
      "cell_type": "markdown",
      "id": "8da3a402",
      "metadata": {
        "id": "8da3a402"
      },
      "source": [
        "<html><font size=4><B><U>Βιβλιογραφία:</U></B><BR></font>\n",
        "<a href=\"https://dl.acm.org/doi/10.1145/2487788.2488173\">[1]\tJérôme Kunegis. KONECT – The Koblenz Network Collection. In Proc. Int. Conf. on World Wide Web Companion, pages 1343–1350, 2013.</a><BR>\n",
        "<a href=\"https://link.springer.com/chapter/10.1007/978-3-540-76298-0_52\">[2]\tSören Auer, Christian Bizer, Georgi Kobilarov, Jens Lehmann, Richard Cyganiak, and Zachary Ives. DBpedia: A nucleus for a web of open data. In Proc. Int. Semant. Web Conf., pages 722–735, 2008.<BR>\n",
        "<a href=\"https://cs.stanford.edu/~jure/pubs/node2vec-kdd16.pdf\">[3] A. Grover, J. Leskovec, Node2vec: Scalable Feature Learning for Networks. ACM KDD, 2016.</a><BR>\n",
        " <a href=\"https://proceedings.neurips.cc/paper/2013/file/9aa42b31882ec039965f3c4923ce901b-Paper.pdf\">[4] T.Mikolov, I.Sutskever, K.Chen, G.S.Corrado and J.Dean, Distributed representations of words and phrases and their compositionality. In NIPS, 2013.</a><BR></font></html>"
      ]
    }
  ],
  "metadata": {
    "kernelspec": {
      "display_name": "Python 3",
      "language": "python",
      "name": "python3"
    },
    "language_info": {
      "codemirror_mode": {
        "name": "ipython",
        "version": 3
      },
      "file_extension": ".py",
      "mimetype": "text/x-python",
      "name": "python",
      "nbconvert_exporter": "python",
      "pygments_lexer": "ipython3",
      "version": "3.8.8"
    },
    "colab": {
      "provenance": []
    }
  },
  "nbformat": 4,
  "nbformat_minor": 5
}